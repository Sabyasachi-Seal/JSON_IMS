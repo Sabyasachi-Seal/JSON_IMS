{
  "nbformat": 4,
  "nbformat_minor": 0,
  "metadata": {
    "colab": {
      "name": "IMS_JSON.ipynb",
      "provenance": []
    },
    "kernelspec": {
      "display_name": "Python 3",
      "name": "python3"
    },
    "language_info": {
      "name": "python"
    }
  },
  "cells": [
    {
      "cell_type": "markdown",
      "metadata": {
        "id": "E9iRlsX-g5Wr"
      },
      "source": [
        "Loading Records"
      ]
    },
    {
      "cell_type": "code",
      "metadata": {
        "id": "EiXRBLE7eRSO"
      },
      "source": [
        "import json\n",
        "fd = open(\"record.json\", \"r\")\n",
        "r = fd.read()\n",
        "fd.close()\n",
        "records = json.loads(r)"
      ],
      "execution_count": 1,
      "outputs": []
    },
    {
      "cell_type": "markdown",
      "metadata": {
        "id": "RHLeXQHWWd0y"
      },
      "source": [
        "Saving Records Function"
      ]
    },
    {
      "cell_type": "code",
      "metadata": {
        "id": "5z_vLAT7elby"
      },
      "source": [
        "def save(records):\n",
        "  js = json.dumps(records)\n",
        "  fd = open(\"record.json\",'w')\n",
        "  fd.write(js)\n",
        "  fd.close()"
      ],
      "execution_count": 2,
      "outputs": []
    },
    {
      "cell_type": "code",
      "metadata": {
        "colab": {
          "base_uri": "https://localhost:8080/"
        },
        "id": "WId1BM7SOTbA",
        "outputId": "fe89683f-690d-4ee5-aced-bcf240ecee31"
      },
      "source": [
        "records"
      ],
      "execution_count": 5,
      "outputs": [
        {
          "output_type": "execute_result",
          "data": {
            "text/plain": [
              "{'1001': {'Price': 100, 'Product_Name': 'Choco Cake', 'Quantity': 34},\n",
              " '1002': {'Price': 800, 'Product_Name': 'Milk Cake', 'Quantity': 100},\n",
              " '1003': {'Price': 85, 'Product_Name': 'Cold Drink', 'Quantity': 100},\n",
              " '1004': {'Price': 5, 'Product_Name': 'Candy', 'Quantity': 1000},\n",
              " '1005': {'Price': 20, 'Product_Name': 'Pen', 'Quantity': 100},\n",
              " '1006': {'Price': 50000, 'Product_Name': 'Phone', 'Quantity': 10},\n",
              " '1007': {'Price': 1500, 'Product_Name': 'Mic', 'Quantity': 0},\n",
              " '1008': {'Price': 599, 'Product_Name': 'Case', 'Quantity': 5},\n",
              " '1009': {'Price': 1999, 'Product_Name': 'Keyboard', 'Quantity': 10},\n",
              " '1010': {'Price': 5, 'Product_Name': 'Nestle Maggi', 'Quantity': 23},\n",
              " '1011': {'Price': 10, 'Product_Name': 'Cadbury', 'Quantity': 150},\n",
              " '1012': {'Price': 5, 'Product_Name': 'Wai Wai', 'Quantity': 18},\n",
              " '1013': {'Price': 15, 'Product_Name': 'Chocolate Balls', 'Quantity': 560},\n",
              " '1014': {'Price': 5, 'Product_Name': 'Spectacles', 'Quantity': 500},\n",
              " '1015': {'Price': 5, 'Product_Name': 'Kinder-Joy', 'Quantity': 102},\n",
              " '1016': {'Price': 20, 'Product_Name': 'Galaxy', 'Quantity': 80},\n",
              " '1017': {'Price': 100, 'Product_Name': 'Cold Coffee', 'Quantity': 90},\n",
              " '1018': {'Price': 80, 'Product_Name': 'Dark Chocolate', 'Quantity': 70},\n",
              " '1019': {'Price': 50, 'Product_Name': 'Oreo', 'Quantity': 150},\n",
              " '1020': {'Price': 10, 'Product_Name': 'Apple Pie', 'Quantity': 90},\n",
              " '1021': {'Price': 5, 'Product_Name': 'Kurkure', 'Quantity': 50},\n",
              " '1022': {'Price': 10, 'Product_Name': 'Bourneville', 'Quantity': 50},\n",
              " '1023': {'Price': 5, 'Product_Name': 'Chips', 'Quantity': 30},\n",
              " '1024': {'Price': 1, 'Product_Name': 'Mentos', 'Quantity': 10000},\n",
              " '1025': {'Price': 1, 'Product_Name': 'School Copy', 'Quantity': 20000},\n",
              " '1026': {'Price': 1, 'Product_Name': 'Lollipop', 'Quantity': 9000},\n",
              " '1027': {'Price': 2, 'Product_Name': 'Mentos', 'Quantity': 8000},\n",
              " '1028': {'Price': 20, 'Product_Name': 'Lichi Drink', 'Quantity': 500},\n",
              " '1029': {'Price': 45, 'Product_Name': 'Webcam Cover', 'Quantity': 600},\n",
              " '1030': {'Price': 15, 'Product_Name': 'Fanta', 'Quantity': 800}}"
            ]
          },
          "metadata": {},
          "execution_count": 5
        }
      ]
    },
    {
      "cell_type": "markdown",
      "metadata": {
        "id": "A5LVWEFVWjHv"
      },
      "source": [
        "Saving Sales Function"
      ]
    },
    {
      "cell_type": "code",
      "metadata": {
        "id": "jo0lSAyMhc5-"
      },
      "source": [
        "def add_sale(selling_info):\n",
        "    with open(\"sales.json\", \"w\") as sales_file:\n",
        "      json.dump(selling_info, sales_file)\n",
        "selling_info = {}"
      ],
      "execution_count": 6,
      "outputs": []
    },
    {
      "cell_type": "markdown",
      "metadata": {
        "id": "WtgiuHHUhAqj"
      },
      "source": [
        "Adding Products"
      ]
    },
    {
      "cell_type": "code",
      "metadata": {
        "id": "WzoTZKKPe3BI"
      },
      "source": [
        "#adding a product\n",
        "def add(records):\n",
        "  adder = True\n",
        "  if adder==True:\n",
        "    ID = str(input(\"Enter product id of the item:\"))\n",
        "    if ID not in list(records.keys()):\n",
        "      name = str(input(\"Enter name:\"))\n",
        "      price = int(input(\"Enter price:\"))\n",
        "      quantity = int(input(\"Enter quantity:\"))\n",
        "      records[ID] = {'Product_Name': name, 'Price': price, 'Quantity': quantity}\n",
        "    else:\n",
        "      print(\"A product with the same product id exists\")\n",
        "      adder = add(records) if input(\"Do you want to exit from adding a product? Y/N\").lower()=='n' else False\n",
        "      adder = modify(records, ID) if input(\"Do you want to modify the product?\").lower()=='y' else False#checking if user wants to modify the product"
      ],
      "execution_count": 7,
      "outputs": []
    },
    {
      "cell_type": "markdown",
      "metadata": {
        "id": "bNu8QQRuz30N"
      },
      "source": [
        "Purchasing Products"
      ]
    },
    {
      "cell_type": "code",
      "metadata": {
        "id": "Xk8rqoRazxwb"
      },
      "source": [
        "#purchasing a product\n",
        "def purchase(records):\n",
        "  purchaser = True\n",
        "  ID  = str(input(\"Enter the product_Id: \"))\n",
        "  if ID not in list(records.keys()):\n",
        "    purchaser = purchase(records) if input(\"Product not found. Do you want to retry? Y/N: \").lower()=='y' else False\n",
        "  if purchaser == True:\n",
        "    quantity = int(input(\"Enter the quantity: \"))\n",
        "    if quantity>records[ID]['Quantity']:\n",
        "      print(\"Sorry we dont have that much\")\n",
        "      purchaser = purchase(records) if input(\"Retry purchase? Y/N\").lower()=='y' else False\n",
        "    if purchaser == True:\n",
        "      print(\"\\n*****BILL*****\\nProduct: \", records[ID]['Product_Name'])\n",
        "      print(\"Price: \", records[ID]['Price'])\n",
        "      print(\"Billing Amount: \", records[ID]['Price'] * quantity)\n",
        "      print(\"*\"*15)\n",
        "      records[ID]['Quantity'] -= quantity\n",
        "      selling_info[str(len(selling_info)+1)]  = {'Product_ID' : ID, 'Quantity' : quantity, 'Amount Paid': records[ID]['Price'] * quantity}\n",
        "      add_sale(selling_info)#adding the sold product in the sales.json"
      ],
      "execution_count": 8,
      "outputs": []
    },
    {
      "cell_type": "markdown",
      "metadata": {
        "id": "rmKwwe9emwXO"
      },
      "source": [
        "Modifying Products"
      ]
    },
    {
      "cell_type": "code",
      "metadata": {
        "id": "GBAolcMOcF0g"
      },
      "source": [
        "def modify(records, ID):\n",
        "  mod = True\n",
        "  if mod == True:\n",
        "    chr = int(input(\"\\n\\nPress \\n1.Modify Name\\n2.Modify Price\\n3.Modify Quantity\\n\"))\n",
        "    if chr==1:\n",
        "      name = str(input(\"Enter new name: \"))\n",
        "      records[ID] = {'Product_Name': name, 'Price': records[ID]['Price'], 'Quantity': records[ID]['Quantity']}\n",
        "    elif chr==2:\n",
        "      price = int(input(\"Enter new price: \"))\n",
        "      records[ID] = {'Product_Name': records[ID]['Product_Name'], 'Price': price, 'Quantity': records[ID]['Quantity']}\n",
        "    elif chr==3:\n",
        "      quantity = int(input(\"Enter quantity to add: \"))\n",
        "      records[ID] = {'Product_Name': records[ID]['Product_Name'], 'Price': records[ID]['Price'], 'Quantity': records[ID]['Quantity']+quantity}\n",
        "    else:\n",
        "      print(\"Wrong Choice\")\n",
        "    save(records)\n",
        "    mod = modify(records, ID) if input(\"Do you want to continue the modification? Y/N: \").lower()=='y' else False"
      ],
      "execution_count": 9,
      "outputs": []
    },
    {
      "cell_type": "markdown",
      "metadata": {
        "id": "dBk6U6Jbz9Bh"
      },
      "source": [
        "Main Function"
      ]
    },
    {
      "cell_type": "code",
      "metadata": {
        "id": "0ZUqu46HzkqG",
        "colab": {
          "base_uri": "https://localhost:8080/"
        },
        "outputId": "57a935c9-832d-4440-df14-bffab6e73cdf"
      },
      "source": [
        "#taking the choice if user wants to buy or add products\n",
        "con = \"y\"\n",
        "while con.lower() != \"n\":\n",
        "  choice = input(\"Enter 1 for purchasing a product and 2 for Adding/Modifying a Product: \")\n",
        "  purchase(records) if int(choice) == 1 else add(records)\n",
        "  save(records)\n",
        "  con = input(\"\\nDo you want to continue? Y/N: \\n\")"
      ],
      "execution_count": 12,
      "outputs": [
        {
          "name": "stdout",
          "output_type": "stream",
          "text": [
            "Enter 1 for purchasing a product and 2 for Adding/Modifying a Product: 1\n",
            "Enter the product_Id: 1023\n",
            "Enter the quantity: 5\n",
            "\n",
            "*****BILL*****\n",
            "Product:  Chips\n",
            "Price:  5\n",
            "Billing Amount:  25\n",
            "***************\n",
            "\n",
            "Do you want to continue? Y/N: \n",
            "y\n",
            "Enter 1 for purchasing a product and 2 for Adding/Modifying a Product: 2\n",
            "Enter product id of the item:1031\n",
            "Enter name:Science Book\n",
            "Enter price:1000\n",
            "Enter quantity:10\n",
            "\n",
            "Do you want to continue? Y/N: \n",
            "Y\n",
            "Enter 1 for purchasing a product and 2 for Adding/Modifying a Product: 1\n",
            "Enter the product_Id: 1010\n",
            "Enter the quantity: 2\n",
            "\n",
            "*****BILL*****\n",
            "Product:  Nestle Maggi\n",
            "Price:  5\n",
            "Billing Amount:  10\n",
            "***************\n",
            "\n",
            "Do you want to continue? Y/N: \n",
            "y\n",
            "Enter 1 for purchasing a product and 2 for Adding/Modifying a Product: 2\n",
            "Enter product id of the item:1004\n",
            "A product with the same product id exists\n",
            "Do you want to exit from adding a product? Y/Ny\n",
            "Do you want to modify the product?N\n",
            "\n",
            "Do you want to continue? Y/N: \n",
            "y\n",
            "Enter 1 for purchasing a product and 2 for Adding/Modifying a Product: 1\n",
            "Enter the product_Id: 1015\n",
            "Enter the quantity: 20\n",
            "\n",
            "*****BILL*****\n",
            "Product:  Kinder-Joy\n",
            "Price:  5\n",
            "Billing Amount:  100\n",
            "***************\n",
            "\n",
            "Do you want to continue? Y/N: \n",
            "Y\n",
            "Enter 1 for purchasing a product and 2 for Adding/Modifying a Product: 2\n",
            "Enter product id of the item:1017\n",
            "A product with the same product id exists\n",
            "Do you want to exit from adding a product? Y/NY\n",
            "Do you want to modify the product?y\n",
            "\n",
            "\n",
            "Press \n",
            "1.Modify Name\n",
            "2.Modify Price\n",
            "3.Modify Quantity\n",
            "1\n",
            "Enter new name: Ice Tea\n",
            "Do you want to continue the modification? Y/N: N\n",
            "\n",
            "Do you want to continue? Y/N: \n",
            "N\n"
          ]
        }
      ]
    },
    {
      "cell_type": "code",
      "metadata": {
        "colab": {
          "base_uri": "https://localhost:8080/"
        },
        "id": "uoJ_ab5Flo_T",
        "outputId": "c1316566-0c29-470f-ff57-268d495cd420"
      },
      "source": [
        "selling_info"
      ],
      "execution_count": 13,
      "outputs": [
        {
          "output_type": "execute_result",
          "data": {
            "text/plain": [
              "{'1': {'Amount Paid': 25, 'Product_ID': '1023', 'Quantity': 5},\n",
              " '2': {'Amount Paid': 10, 'Product_ID': '1010', 'Quantity': 2},\n",
              " '3': {'Amount Paid': 100, 'Product_ID': '1015', 'Quantity': 20}}"
            ]
          },
          "metadata": {},
          "execution_count": 13
        }
      ]
    },
    {
      "cell_type": "code",
      "metadata": {
        "colab": {
          "base_uri": "https://localhost:8080/"
        },
        "id": "lwZFfMEiHEHB",
        "outputId": "7dad5016-c774-4f47-ef1a-9b6650c1d412"
      },
      "source": [
        "records"
      ],
      "execution_count": 14,
      "outputs": [
        {
          "output_type": "execute_result",
          "data": {
            "text/plain": [
              "{'1001': {'Price': 100, 'Product_Name': 'Choco Cake', 'Quantity': 34},\n",
              " '1002': {'Price': 800, 'Product_Name': 'Milk Cake', 'Quantity': 100},\n",
              " '1003': {'Price': 85, 'Product_Name': 'Cold Drink', 'Quantity': 100},\n",
              " '1004': {'Price': 5, 'Product_Name': 'Candy', 'Quantity': 1000},\n",
              " '1005': {'Price': 20, 'Product_Name': 'Pen', 'Quantity': 100},\n",
              " '1006': {'Price': 50000, 'Product_Name': 'Phone', 'Quantity': 10},\n",
              " '1007': {'Price': 1500, 'Product_Name': 'Mic', 'Quantity': 0},\n",
              " '1008': {'Price': 599, 'Product_Name': 'Case', 'Quantity': 5},\n",
              " '1009': {'Price': 1999, 'Product_Name': 'Keyboard', 'Quantity': 10},\n",
              " '1010': {'Price': 5, 'Product_Name': 'Nestle Maggi', 'Quantity': 21},\n",
              " '1011': {'Price': 10, 'Product_Name': 'Cadbury', 'Quantity': 150},\n",
              " '1012': {'Price': 5, 'Product_Name': 'Wai Wai', 'Quantity': 18},\n",
              " '1013': {'Price': 15, 'Product_Name': 'Chocolate Balls', 'Quantity': 560},\n",
              " '1014': {'Price': 5, 'Product_Name': 'Spectacles', 'Quantity': 500},\n",
              " '1015': {'Price': 5, 'Product_Name': 'Kinder-Joy', 'Quantity': 82},\n",
              " '1016': {'Price': 20, 'Product_Name': 'Galaxy', 'Quantity': 80},\n",
              " '1017': {'Price': 100, 'Product_Name': 'Ice Tea', 'Quantity': 90},\n",
              " '1018': {'Price': 80, 'Product_Name': 'Dark Chocolate', 'Quantity': 70},\n",
              " '1019': {'Price': 50, 'Product_Name': 'Oreo', 'Quantity': 150},\n",
              " '1020': {'Price': 10, 'Product_Name': 'Apple Pie', 'Quantity': 90},\n",
              " '1021': {'Price': 5, 'Product_Name': 'Kurkure', 'Quantity': 50},\n",
              " '1022': {'Price': 10, 'Product_Name': 'Bourneville', 'Quantity': 50},\n",
              " '1023': {'Price': 5, 'Product_Name': 'Chips', 'Quantity': 25},\n",
              " '1024': {'Price': 1, 'Product_Name': 'Mentos', 'Quantity': 10000},\n",
              " '1025': {'Price': 1, 'Product_Name': 'School Copy', 'Quantity': 20000},\n",
              " '1026': {'Price': 1, 'Product_Name': 'Lollipop', 'Quantity': 9000},\n",
              " '1027': {'Price': 2, 'Product_Name': 'Mentos', 'Quantity': 8000},\n",
              " '1028': {'Price': 20, 'Product_Name': 'Lichi Drink', 'Quantity': 500},\n",
              " '1029': {'Price': 45, 'Product_Name': 'Webcam Cover', 'Quantity': 600},\n",
              " '1030': {'Price': 15, 'Product_Name': 'Fanta', 'Quantity': 800},\n",
              " '1031': {'Price': 1000, 'Product_Name': 'Science Book', 'Quantity': 10}}"
            ]
          },
          "metadata": {},
          "execution_count": 14
        }
      ]
    }
  ]
}